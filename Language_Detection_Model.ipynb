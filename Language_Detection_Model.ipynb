{
 "cells": [
  {
   "cell_type": "code",
   "execution_count": 1,
   "id": "3ac735de",
   "metadata": {},
   "outputs": [],
   "source": [
    "#Importing the essential libraries\n",
    "import string\n",
    "import re\n",
    "import codecs\n",
    "import numpy as np\n",
    "import pandas as pd\n",
    "import seaborn as sns\n",
    "import matplotlib.pyplot as plt\n",
    "from sklearn import feature_extraction\n",
    "from sklearn import linear_model\n",
    "from sklearn import pipeline\n",
    "from sklearn.model_selection import train_test_split\n",
    "from sklearn import metrics\n",
    "from sklearn.feature_extraction.text import TfidfVectorizer\n",
    "from sklearn.linear_model import LogisticRegression"
   ]
  },
  {
   "cell_type": "code",
   "execution_count": 2,
   "id": "b030d824",
   "metadata": {},
   "outputs": [
    {
     "data": {
      "text/html": [
       "<div>\n",
       "<style scoped>\n",
       "    .dataframe tbody tr th:only-of-type {\n",
       "        vertical-align: middle;\n",
       "    }\n",
       "\n",
       "    .dataframe tbody tr th {\n",
       "        vertical-align: top;\n",
       "    }\n",
       "\n",
       "    .dataframe thead th {\n",
       "        text-align: right;\n",
       "    }\n",
       "</style>\n",
       "<table border=\"1\" class=\"dataframe\">\n",
       "  <thead>\n",
       "    <tr style=\"text-align: right;\">\n",
       "      <th></th>\n",
       "      <th>Text</th>\n",
       "      <th>Language</th>\n",
       "    </tr>\n",
       "  </thead>\n",
       "  <tbody>\n",
       "    <tr>\n",
       "      <th>0</th>\n",
       "      <td>Nature, in the broadest sense, is the natural...</td>\n",
       "      <td>English</td>\n",
       "    </tr>\n",
       "    <tr>\n",
       "      <th>1</th>\n",
       "      <td>\"Nature\" can refer to the phenomena of the phy...</td>\n",
       "      <td>English</td>\n",
       "    </tr>\n",
       "    <tr>\n",
       "      <th>2</th>\n",
       "      <td>The study of nature is a large, if not the onl...</td>\n",
       "      <td>English</td>\n",
       "    </tr>\n",
       "    <tr>\n",
       "      <th>3</th>\n",
       "      <td>Although humans are part of nature, human acti...</td>\n",
       "      <td>English</td>\n",
       "    </tr>\n",
       "    <tr>\n",
       "      <th>4</th>\n",
       "      <td>[1] The word nature is borrowed from the Old F...</td>\n",
       "      <td>English</td>\n",
       "    </tr>\n",
       "    <tr>\n",
       "      <th>...</th>\n",
       "      <td>...</td>\n",
       "      <td>...</td>\n",
       "    </tr>\n",
       "    <tr>\n",
       "      <th>10332</th>\n",
       "      <td>ನಿಮ್ಮ ತಪ್ಪು ಏನು ಬಂದಿದೆಯೆಂದರೆ ಆ ದಿನದಿಂದ ನಿಮಗೆ ಒ...</td>\n",
       "      <td>Kannada</td>\n",
       "    </tr>\n",
       "    <tr>\n",
       "      <th>10333</th>\n",
       "      <td>ನಾರ್ಸಿಸಾ ತಾನು ಮೊದಲಿಗೆ ಹೆಣಗಾಡುತ್ತಿದ್ದ ಮಾರ್ಗಗಳನ್...</td>\n",
       "      <td>Kannada</td>\n",
       "    </tr>\n",
       "    <tr>\n",
       "      <th>10334</th>\n",
       "      <td>ಹೇಗೆ ' ನಾರ್ಸಿಸಿಸಮ್ ಈಗ ಮರಿಯನ್ ಅವರಿಗೆ ಸಂಭವಿಸಿದ ಎ...</td>\n",
       "      <td>Kannada</td>\n",
       "    </tr>\n",
       "    <tr>\n",
       "      <th>10335</th>\n",
       "      <td>ಅವಳು ಈಗ ಹೆಚ್ಚು ಚಿನ್ನದ ಬ್ರೆಡ್ ಬಯಸುವುದಿಲ್ಲ ಎಂದು ...</td>\n",
       "      <td>Kannada</td>\n",
       "    </tr>\n",
       "    <tr>\n",
       "      <th>10336</th>\n",
       "      <td>ಟೆರ್ರಿ ನೀವು ನಿಜವಾಗಿಯೂ ಆ ದೇವದೂತನಂತೆ ಸ್ವಲ್ಪ ಕಾಣು...</td>\n",
       "      <td>Kannada</td>\n",
       "    </tr>\n",
       "  </tbody>\n",
       "</table>\n",
       "<p>10337 rows × 2 columns</p>\n",
       "</div>"
      ],
      "text/plain": [
       "                                                    Text Language\n",
       "0       Nature, in the broadest sense, is the natural...  English\n",
       "1      \"Nature\" can refer to the phenomena of the phy...  English\n",
       "2      The study of nature is a large, if not the onl...  English\n",
       "3      Although humans are part of nature, human acti...  English\n",
       "4      [1] The word nature is borrowed from the Old F...  English\n",
       "...                                                  ...      ...\n",
       "10332  ನಿಮ್ಮ ತಪ್ಪು ಏನು ಬಂದಿದೆಯೆಂದರೆ ಆ ದಿನದಿಂದ ನಿಮಗೆ ಒ...  Kannada\n",
       "10333  ನಾರ್ಸಿಸಾ ತಾನು ಮೊದಲಿಗೆ ಹೆಣಗಾಡುತ್ತಿದ್ದ ಮಾರ್ಗಗಳನ್...  Kannada\n",
       "10334  ಹೇಗೆ ' ನಾರ್ಸಿಸಿಸಮ್ ಈಗ ಮರಿಯನ್ ಅವರಿಗೆ ಸಂಭವಿಸಿದ ಎ...  Kannada\n",
       "10335  ಅವಳು ಈಗ ಹೆಚ್ಚು ಚಿನ್ನದ ಬ್ರೆಡ್ ಬಯಸುವುದಿಲ್ಲ ಎಂದು ...  Kannada\n",
       "10336  ಟೆರ್ರಿ ನೀವು ನಿಜವಾಗಿಯೂ ಆ ದೇವದೂತನಂತೆ ಸ್ವಲ್ಪ ಕಾಣು...  Kannada\n",
       "\n",
       "[10337 rows x 2 columns]"
      ]
     },
     "execution_count": 2,
     "metadata": {},
     "output_type": "execute_result"
    }
   ],
   "source": [
    "#Loading the dataset\n",
    "df=pd.read_csv(r\"C:\\Users\\ASUS\\OneDrive\\Documents\\Projects\\Python\\Language Detection Model\\Language Detection.csv\")\n",
    "df"
   ]
  },
  {
   "cell_type": "code",
   "execution_count": 3,
   "id": "06a7e30d",
   "metadata": {
    "scrolled": true
   },
   "outputs": [
    {
     "data": {
      "text/html": [
       "<div>\n",
       "<style scoped>\n",
       "    .dataframe tbody tr th:only-of-type {\n",
       "        vertical-align: middle;\n",
       "    }\n",
       "\n",
       "    .dataframe tbody tr th {\n",
       "        vertical-align: top;\n",
       "    }\n",
       "\n",
       "    .dataframe thead th {\n",
       "        text-align: right;\n",
       "    }\n",
       "</style>\n",
       "<table border=\"1\" class=\"dataframe\">\n",
       "  <thead>\n",
       "    <tr style=\"text-align: right;\">\n",
       "      <th></th>\n",
       "      <th>English</th>\n",
       "      <th>Language</th>\n",
       "    </tr>\n",
       "  </thead>\n",
       "  <tbody>\n",
       "    <tr>\n",
       "      <th>0</th>\n",
       "      <td>Nature, in the broadest sense, is the natural...</td>\n",
       "      <td>English</td>\n",
       "    </tr>\n",
       "    <tr>\n",
       "      <th>1</th>\n",
       "      <td>\"Nature\" can refer to the phenomena of the phy...</td>\n",
       "      <td>English</td>\n",
       "    </tr>\n",
       "    <tr>\n",
       "      <th>2</th>\n",
       "      <td>The study of nature is a large, if not the onl...</td>\n",
       "      <td>English</td>\n",
       "    </tr>\n",
       "    <tr>\n",
       "      <th>3</th>\n",
       "      <td>Although humans are part of nature, human acti...</td>\n",
       "      <td>English</td>\n",
       "    </tr>\n",
       "    <tr>\n",
       "      <th>4</th>\n",
       "      <td>[1] The word nature is borrowed from the Old F...</td>\n",
       "      <td>English</td>\n",
       "    </tr>\n",
       "    <tr>\n",
       "      <th>...</th>\n",
       "      <td>...</td>\n",
       "      <td>...</td>\n",
       "    </tr>\n",
       "    <tr>\n",
       "      <th>1380</th>\n",
       "      <td>what your mistake was come let's feed you some...</td>\n",
       "      <td>English</td>\n",
       "    </tr>\n",
       "    <tr>\n",
       "      <th>1381</th>\n",
       "      <td>narcisa changed her ways she struggled at firs...</td>\n",
       "      <td>English</td>\n",
       "    </tr>\n",
       "    <tr>\n",
       "      <th>1382</th>\n",
       "      <td>how's narcissism now marian told them both eve...</td>\n",
       "      <td>English</td>\n",
       "    </tr>\n",
       "    <tr>\n",
       "      <th>1383</th>\n",
       "      <td>has she i guess she wouldn't want any more gol...</td>\n",
       "      <td>English</td>\n",
       "    </tr>\n",
       "    <tr>\n",
       "      <th>1384</th>\n",
       "      <td>terry you actually look a little like that ang...</td>\n",
       "      <td>English</td>\n",
       "    </tr>\n",
       "  </tbody>\n",
       "</table>\n",
       "<p>1385 rows × 2 columns</p>\n",
       "</div>"
      ],
      "text/plain": [
       "                                                English Language\n",
       "0      Nature, in the broadest sense, is the natural...  English\n",
       "1     \"Nature\" can refer to the phenomena of the phy...  English\n",
       "2     The study of nature is a large, if not the onl...  English\n",
       "3     Although humans are part of nature, human acti...  English\n",
       "4     [1] The word nature is borrowed from the Old F...  English\n",
       "...                                                 ...      ...\n",
       "1380  what your mistake was come let's feed you some...  English\n",
       "1381  narcisa changed her ways she struggled at firs...  English\n",
       "1382  how's narcissism now marian told them both eve...  English\n",
       "1383  has she i guess she wouldn't want any more gol...  English\n",
       "1384  terry you actually look a little like that ang...  English\n",
       "\n",
       "[1385 rows x 2 columns]"
      ]
     },
     "execution_count": 3,
     "metadata": {},
     "output_type": "execute_result"
    }
   ],
   "source": [
    "#Loading English raw data from the dataset\n",
    "english_df = df[df['Language'] == 'English'].rename(columns={'Text': 'English'})\n",
    "english_df"
   ]
  },
  {
   "cell_type": "code",
   "execution_count": 4,
   "id": "dda3f4c7",
   "metadata": {},
   "outputs": [
    {
     "data": {
      "text/html": [
       "<div>\n",
       "<style scoped>\n",
       "    .dataframe tbody tr th:only-of-type {\n",
       "        vertical-align: middle;\n",
       "    }\n",
       "\n",
       "    .dataframe tbody tr th {\n",
       "        vertical-align: top;\n",
       "    }\n",
       "\n",
       "    .dataframe thead th {\n",
       "        text-align: right;\n",
       "    }\n",
       "</style>\n",
       "<table border=\"1\" class=\"dataframe\">\n",
       "  <thead>\n",
       "    <tr style=\"text-align: right;\">\n",
       "      <th></th>\n",
       "      <th>German</th>\n",
       "      <th>Language</th>\n",
       "    </tr>\n",
       "  </thead>\n",
       "  <tbody>\n",
       "    <tr>\n",
       "      <th>9498</th>\n",
       "      <td>.Wir sind alle auf der Suche nach schnellen We...</td>\n",
       "      <td>German</td>\n",
       "    </tr>\n",
       "    <tr>\n",
       "      <th>9499</th>\n",
       "      <td>Ich weiß, ich verstehe, was passiert, ist, das...</td>\n",
       "      <td>German</td>\n",
       "    </tr>\n",
       "    <tr>\n",
       "      <th>9500</th>\n",
       "      <td>Wie wäre es also mit uns?</td>\n",
       "      <td>German</td>\n",
       "    </tr>\n",
       "    <tr>\n",
       "      <th>9501</th>\n",
       "      <td>Lernen Sie einige intelligente neue englische ...</td>\n",
       "      <td>German</td>\n",
       "    </tr>\n",
       "    <tr>\n",
       "      <th>9502</th>\n",
       "      <td>Also werden wir heute 10 neue intelligente Wör...</td>\n",
       "      <td>German</td>\n",
       "    </tr>\n",
       "    <tr>\n",
       "      <th>...</th>\n",
       "      <td>...</td>\n",
       "      <td>...</td>\n",
       "    </tr>\n",
       "    <tr>\n",
       "      <th>9963</th>\n",
       "      <td>narcisa änderte ihre art und weise sie kämpfte...</td>\n",
       "      <td>German</td>\n",
       "    </tr>\n",
       "    <tr>\n",
       "      <th>9964</th>\n",
       "      <td>Wie' s Narzissmus jetzt erzählt Marian beiden ...</td>\n",
       "      <td>German</td>\n",
       "    </tr>\n",
       "    <tr>\n",
       "      <th>9965</th>\n",
       "      <td>Hat sie, ich denke, sie würde jetzt kein Goldb...</td>\n",
       "      <td>German</td>\n",
       "    </tr>\n",
       "    <tr>\n",
       "      <th>9966</th>\n",
       "      <td>Terry, du siehst tatsächlich ein bisschen wie ...</td>\n",
       "      <td>German</td>\n",
       "    </tr>\n",
       "    <tr>\n",
       "      <th>9967</th>\n",
       "      <td>Ihr zwei seid so nett</td>\n",
       "      <td>German</td>\n",
       "    </tr>\n",
       "  </tbody>\n",
       "</table>\n",
       "<p>470 rows × 2 columns</p>\n",
       "</div>"
      ],
      "text/plain": [
       "                                                 German Language\n",
       "9498  .Wir sind alle auf der Suche nach schnellen We...   German\n",
       "9499  Ich weiß, ich verstehe, was passiert, ist, das...   German\n",
       "9500                          Wie wäre es also mit uns?   German\n",
       "9501  Lernen Sie einige intelligente neue englische ...   German\n",
       "9502  Also werden wir heute 10 neue intelligente Wör...   German\n",
       "...                                                 ...      ...\n",
       "9963  narcisa änderte ihre art und weise sie kämpfte...   German\n",
       "9964  Wie' s Narzissmus jetzt erzählt Marian beiden ...   German\n",
       "9965  Hat sie, ich denke, sie würde jetzt kein Goldb...   German\n",
       "9966  Terry, du siehst tatsächlich ein bisschen wie ...   German\n",
       "9967                              Ihr zwei seid so nett   German\n",
       "\n",
       "[470 rows x 2 columns]"
      ]
     },
     "execution_count": 4,
     "metadata": {},
     "output_type": "execute_result"
    }
   ],
   "source": [
    "#Loading German raw data from the dataset\n",
    "german_df = df[df['Language'] == 'German'].rename(columns={'Text': 'German'})\n",
    "german_df"
   ]
  },
  {
   "cell_type": "code",
   "execution_count": 5,
   "id": "417f5d96",
   "metadata": {},
   "outputs": [
    {
     "data": {
      "text/html": [
       "<div>\n",
       "<style scoped>\n",
       "    .dataframe tbody tr th:only-of-type {\n",
       "        vertical-align: middle;\n",
       "    }\n",
       "\n",
       "    .dataframe tbody tr th {\n",
       "        vertical-align: top;\n",
       "    }\n",
       "\n",
       "    .dataframe thead th {\n",
       "        text-align: right;\n",
       "    }\n",
       "</style>\n",
       "<table border=\"1\" class=\"dataframe\">\n",
       "  <thead>\n",
       "    <tr style=\"text-align: right;\">\n",
       "      <th></th>\n",
       "      <th>French</th>\n",
       "      <th>Language</th>\n",
       "    </tr>\n",
       "  </thead>\n",
       "  <tbody>\n",
       "    <tr>\n",
       "      <th>3250</th>\n",
       "      <td>Si vous disposez d'ouvrages ou d'articles de r...</td>\n",
       "      <td>French</td>\n",
       "    </tr>\n",
       "    <tr>\n",
       "      <th>3251</th>\n",
       "      <td>Comment ajouter mes sources ?</td>\n",
       "      <td>French</td>\n",
       "    </tr>\n",
       "    <tr>\n",
       "      <th>3252</th>\n",
       "      <td>Cette page ou section est en train d'être trad...</td>\n",
       "      <td>French</td>\n",
       "    </tr>\n",
       "    <tr>\n",
       "      <th>3253</th>\n",
       "      <td>Vous pouvez aider au développement de Wikipédi...</td>\n",
       "      <td>French</td>\n",
       "    </tr>\n",
       "    <tr>\n",
       "      <th>3254</th>\n",
       "      <td>Le mot nature est un terme polysémique (c’est-...</td>\n",
       "      <td>French</td>\n",
       "    </tr>\n",
       "    <tr>\n",
       "      <th>...</th>\n",
       "      <td>...</td>\n",
       "      <td>...</td>\n",
       "    </tr>\n",
       "    <tr>\n",
       "      <th>4259</th>\n",
       "      <td>quelle a été votre erreur, nous allons vous no...</td>\n",
       "      <td>French</td>\n",
       "    </tr>\n",
       "    <tr>\n",
       "      <th>4260</th>\n",
       "      <td>narcisa a changé ses manières, elle a lutté au...</td>\n",
       "      <td>French</td>\n",
       "    </tr>\n",
       "    <tr>\n",
       "      <th>4261</th>\n",
       "      <td>Comment' Le narcissisme de s maintenant marian...</td>\n",
       "      <td>French</td>\n",
       "    </tr>\n",
       "    <tr>\n",
       "      <th>4262</th>\n",
       "      <td>a-t-elle je suppose qu'elle ne voudrait plus d...</td>\n",
       "      <td>French</td>\n",
       "    </tr>\n",
       "    <tr>\n",
       "      <th>4263</th>\n",
       "      <td>Terry, tu ressembles un peu à cet ange, mais q...</td>\n",
       "      <td>French</td>\n",
       "    </tr>\n",
       "  </tbody>\n",
       "</table>\n",
       "<p>1014 rows × 2 columns</p>\n",
       "</div>"
      ],
      "text/plain": [
       "                                                 French Language\n",
       "3250  Si vous disposez d'ouvrages ou d'articles de r...   French\n",
       "3251                      Comment ajouter mes sources ?   French\n",
       "3252  Cette page ou section est en train d'être trad...   French\n",
       "3253  Vous pouvez aider au développement de Wikipédi...   French\n",
       "3254  Le mot nature est un terme polysémique (c’est-...   French\n",
       "...                                                 ...      ...\n",
       "4259  quelle a été votre erreur, nous allons vous no...   French\n",
       "4260  narcisa a changé ses manières, elle a lutté au...   French\n",
       "4261  Comment' Le narcissisme de s maintenant marian...   French\n",
       "4262  a-t-elle je suppose qu'elle ne voudrait plus d...   French\n",
       "4263  Terry, tu ressembles un peu à cet ange, mais q...   French\n",
       "\n",
       "[1014 rows x 2 columns]"
      ]
     },
     "execution_count": 5,
     "metadata": {},
     "output_type": "execute_result"
    }
   ],
   "source": [
    "#Loading French raw data from the dataset\n",
    "french_df = df[df['Language'] == 'French'].rename(columns={'Text': 'French'})\n",
    "french_df"
   ]
  },
  {
   "cell_type": "code",
   "execution_count": 6,
   "id": "0bc1e2a8",
   "metadata": {},
   "outputs": [
    {
     "data": {
      "text/html": [
       "<div>\n",
       "<style scoped>\n",
       "    .dataframe tbody tr th:only-of-type {\n",
       "        vertical-align: middle;\n",
       "    }\n",
       "\n",
       "    .dataframe tbody tr th {\n",
       "        vertical-align: top;\n",
       "    }\n",
       "\n",
       "    .dataframe thead th {\n",
       "        text-align: right;\n",
       "    }\n",
       "</style>\n",
       "<table border=\"1\" class=\"dataframe\">\n",
       "  <thead>\n",
       "    <tr style=\"text-align: right;\">\n",
       "      <th></th>\n",
       "      <th>Spanish</th>\n",
       "      <th>Language</th>\n",
       "    </tr>\n",
       "  </thead>\n",
       "  <tbody>\n",
       "    <tr>\n",
       "      <th>4810</th>\n",
       "      <td>Nature es una de las más prestigiosas revistas...</td>\n",
       "      <td>Spanish</td>\n",
       "    </tr>\n",
       "    <tr>\n",
       "      <th>4811</th>\n",
       "      <td>Su primer número fue publicado el 4 de noviemb...</td>\n",
       "      <td>Spanish</td>\n",
       "    </tr>\n",
       "    <tr>\n",
       "      <th>4812</th>\n",
       "      <td>[2]​ Con una periodicidad semanal, la revista ...</td>\n",
       "      <td>Spanish</td>\n",
       "    </tr>\n",
       "    <tr>\n",
       "      <th>4813</th>\n",
       "      <td>Nature tiene oficinas en Londres, Nueva York, ...</td>\n",
       "      <td>Spanish</td>\n",
       "    </tr>\n",
       "    <tr>\n",
       "      <th>4814</th>\n",
       "      <td>La editorial publica también varias revistas e...</td>\n",
       "      <td>Spanish</td>\n",
       "    </tr>\n",
       "    <tr>\n",
       "      <th>...</th>\n",
       "      <td>...</td>\n",
       "      <td>...</td>\n",
       "    </tr>\n",
       "    <tr>\n",
       "      <th>5624</th>\n",
       "      <td>¿Tiene ella?</td>\n",
       "      <td>Spanish</td>\n",
       "    </tr>\n",
       "    <tr>\n",
       "      <th>5625</th>\n",
       "      <td>Supongo que no querría más pan de oro ahora ¿e...</td>\n",
       "      <td>Spanish</td>\n",
       "    </tr>\n",
       "    <tr>\n",
       "      <th>5626</th>\n",
       "      <td>Terry, en realidad te pareces un poco a ese án...</td>\n",
       "      <td>Spanish</td>\n",
       "    </tr>\n",
       "    <tr>\n",
       "      <th>5627</th>\n",
       "      <td>¿Cómo pudiste ser él?</td>\n",
       "      <td>Spanish</td>\n",
       "    </tr>\n",
       "    <tr>\n",
       "      <th>5628</th>\n",
       "      <td>Ustedes dos son tan amables</td>\n",
       "      <td>Spanish</td>\n",
       "    </tr>\n",
       "  </tbody>\n",
       "</table>\n",
       "<p>819 rows × 2 columns</p>\n",
       "</div>"
      ],
      "text/plain": [
       "                                                Spanish Language\n",
       "4810  Nature es una de las más prestigiosas revistas...  Spanish\n",
       "4811  Su primer número fue publicado el 4 de noviemb...  Spanish\n",
       "4812  [2]​ Con una periodicidad semanal, la revista ...  Spanish\n",
       "4813  Nature tiene oficinas en Londres, Nueva York, ...  Spanish\n",
       "4814  La editorial publica también varias revistas e...  Spanish\n",
       "...                                                 ...      ...\n",
       "5624                                       ¿Tiene ella?  Spanish\n",
       "5625  Supongo que no querría más pan de oro ahora ¿e...  Spanish\n",
       "5626  Terry, en realidad te pareces un poco a ese án...  Spanish\n",
       "5627                              ¿Cómo pudiste ser él?  Spanish\n",
       "5628                        Ustedes dos son tan amables  Spanish\n",
       "\n",
       "[819 rows x 2 columns]"
      ]
     },
     "execution_count": 6,
     "metadata": {},
     "output_type": "execute_result"
    }
   ],
   "source": [
    "#Loading Spanish raw data from the dataset\n",
    "spanish_df = df[df['Language'] == 'Spanish'].rename(columns={'Text': 'Spanish'})\n",
    "spanish_df"
   ]
  },
  {
   "cell_type": "code",
   "execution_count": 7,
   "id": "5765a67d",
   "metadata": {},
   "outputs": [
    {
     "data": {
      "text/html": [
       "<div>\n",
       "<style scoped>\n",
       "    .dataframe tbody tr th:only-of-type {\n",
       "        vertical-align: middle;\n",
       "    }\n",
       "\n",
       "    .dataframe tbody tr th {\n",
       "        vertical-align: top;\n",
       "    }\n",
       "\n",
       "    .dataframe thead th {\n",
       "        text-align: right;\n",
       "    }\n",
       "</style>\n",
       "<table border=\"1\" class=\"dataframe\">\n",
       "  <thead>\n",
       "    <tr style=\"text-align: right;\">\n",
       "      <th></th>\n",
       "      <th>Malayalam</th>\n",
       "      <th>Language</th>\n",
       "    </tr>\n",
       "  </thead>\n",
       "  <tbody>\n",
       "    <tr>\n",
       "      <th>1385</th>\n",
       "      <td>ഭൗതികപ്രപഞ്ചത്തെ മൊത്തത്തിൽ സൂചിപ്പിക്കുന്ന പദ...</td>\n",
       "      <td>Malayalam</td>\n",
       "    </tr>\n",
       "    <tr>\n",
       "      <th>1386</th>\n",
       "      <td>ഭൗതികപ്രതിഭാസങ്ങളും ജീവനും പ്രകൃതിയുടെ ഘടകങ്ങള...</td>\n",
       "      <td>Malayalam</td>\n",
       "    </tr>\n",
       "    <tr>\n",
       "      <th>1387</th>\n",
       "      <td>മനുഷ്യനിർമിതമായ വസ്തുക്കളെ പ്രകൃതിയുടെ ഭാഗമായി...</td>\n",
       "      <td>Malayalam</td>\n",
       "    </tr>\n",
       "    <tr>\n",
       "      <th>1388</th>\n",
       "      <td>അവയെ കൃത്രിമം എന്ന് വിശേഷിപ്പിക്കുന്നുഅഭിപ്രായ...</td>\n",
       "      <td>Malayalam</td>\n",
       "    </tr>\n",
       "    <tr>\n",
       "      <th>1389</th>\n",
       "      <td>പ്രകൃതി എന്ന പദം പ്രപഞ്ചത്തെയും അതിലെ സമസ്ത പ്...</td>\n",
       "      <td>Malayalam</td>\n",
       "    </tr>\n",
       "    <tr>\n",
       "      <th>...</th>\n",
       "      <td>...</td>\n",
       "      <td>...</td>\n",
       "    </tr>\n",
       "    <tr>\n",
       "      <th>1974</th>\n",
       "      <td>നിങ്ങളുടെ തെറ്റ് വന്നത് ആ ദിവസം മുതൽ നിങ്ങൾക്ക...</td>\n",
       "      <td>Malayalam</td>\n",
       "    </tr>\n",
       "    <tr>\n",
       "      <th>1975</th>\n",
       "      <td>നാർസിസ ആദ്യം പാടുപെട്ട വഴികൾ മാറ്റി, പക്ഷേ പതു...</td>\n",
       "      <td>Malayalam</td>\n",
       "    </tr>\n",
       "    <tr>\n",
       "      <th>1976</th>\n",
       "      <td>എങ്ങനെ' സംഭവിച്ച എല്ലാ കാര്യങ്ങളും ഇപ്പോൾ മരിയ...</td>\n",
       "      <td>Malayalam</td>\n",
       "    </tr>\n",
       "    <tr>\n",
       "      <th>1977</th>\n",
       "      <td>അവൾക്കറിയാമോ, അവൾക്ക് ഇപ്പോൾ കൂടുതൽ സ്വർണ്ണ റൊ...</td>\n",
       "      <td>Malayalam</td>\n",
       "    </tr>\n",
       "    <tr>\n",
       "      <th>1978</th>\n",
       "      <td>ടെറി നിങ്ങൾ യഥാർത്ഥത്തിൽ ആ മാലാഖയെപ്പോലെയാണ് ക...</td>\n",
       "      <td>Malayalam</td>\n",
       "    </tr>\n",
       "  </tbody>\n",
       "</table>\n",
       "<p>594 rows × 2 columns</p>\n",
       "</div>"
      ],
      "text/plain": [
       "                                              Malayalam   Language\n",
       "1385  ഭൗതികപ്രപഞ്ചത്തെ മൊത്തത്തിൽ സൂചിപ്പിക്കുന്ന പദ...  Malayalam\n",
       "1386  ഭൗതികപ്രതിഭാസങ്ങളും ജീവനും പ്രകൃതിയുടെ ഘടകങ്ങള...  Malayalam\n",
       "1387  മനുഷ്യനിർമിതമായ വസ്തുക്കളെ പ്രകൃതിയുടെ ഭാഗമായി...  Malayalam\n",
       "1388  അവയെ കൃത്രിമം എന്ന് വിശേഷിപ്പിക്കുന്നുഅഭിപ്രായ...  Malayalam\n",
       "1389  പ്രകൃതി എന്ന പദം പ്രപഞ്ചത്തെയും അതിലെ സമസ്ത പ്...  Malayalam\n",
       "...                                                 ...        ...\n",
       "1974  നിങ്ങളുടെ തെറ്റ് വന്നത് ആ ദിവസം മുതൽ നിങ്ങൾക്ക...  Malayalam\n",
       "1975  നാർസിസ ആദ്യം പാടുപെട്ട വഴികൾ മാറ്റി, പക്ഷേ പതു...  Malayalam\n",
       "1976  എങ്ങനെ' സംഭവിച്ച എല്ലാ കാര്യങ്ങളും ഇപ്പോൾ മരിയ...  Malayalam\n",
       "1977  അവൾക്കറിയാമോ, അവൾക്ക് ഇപ്പോൾ കൂടുതൽ സ്വർണ്ണ റൊ...  Malayalam\n",
       "1978  ടെറി നിങ്ങൾ യഥാർത്ഥത്തിൽ ആ മാലാഖയെപ്പോലെയാണ് ക...  Malayalam\n",
       "\n",
       "[594 rows x 2 columns]"
      ]
     },
     "execution_count": 7,
     "metadata": {},
     "output_type": "execute_result"
    }
   ],
   "source": [
    "#Loading Malayalam raw data from the dataset\n",
    "malayalam_df = df[df['Language'] == 'Malayalam'].rename(columns={'Text': 'Malayalam'})\n",
    "malayalam_df"
   ]
  },
  {
   "cell_type": "code",
   "execution_count": 8,
   "id": "10a290f2",
   "metadata": {},
   "outputs": [
    {
     "name": "stdout",
     "output_type": "stream",
     "text": [
      "! \" # $ % & ' ( ) * + , - . / : ; < = > ? @ [ \\ ] ^ _ ` { | } ~ "
     ]
    }
   ],
   "source": [
    "#Identifying the punctuations\n",
    "for char in string.punctuation:\n",
    "    print(char,end=\" \")\n",
    "translate_table=dict((ord(char),None) for char in string.punctuation)"
   ]
  },
  {
   "cell_type": "code",
   "execution_count": 9,
   "id": "5b0b268d",
   "metadata": {},
   "outputs": [],
   "source": [
    "#Pre-processing Engish Raw data\n",
    "data_english = []\n",
    "lang_english=[]\n",
    "for i,line in english_df.iterrows():\n",
    "    line=line['English']\n",
    "    if len(line) !=0:\n",
    "        line=line.lower()\n",
    "        line=re.sub(r\"\\d+\",\"\",line)\n",
    "        line=line.translate(translate_table)\n",
    "        data_english.append(line)\n",
    "        lang_english.append(\"English\")"
   ]
  },
  {
   "cell_type": "code",
   "execution_count": 10,
   "id": "6437f5a7",
   "metadata": {},
   "outputs": [],
   "source": [
    "#Pre-processing German Raw data\n",
    "data_german = []\n",
    "lang_german=[]\n",
    "for i,line in german_df.iterrows():\n",
    "    line=line['German']\n",
    "    if len(line) !=0:\n",
    "        line=line.lower()\n",
    "        line=re.sub(r\"\\d+\",\"\",line)\n",
    "        line=line.translate(translate_table)\n",
    "        data_german.append(line)\n",
    "        lang_german.append(\"German\")"
   ]
  },
  {
   "cell_type": "code",
   "execution_count": 11,
   "id": "887283b0",
   "metadata": {},
   "outputs": [],
   "source": [
    "#Pre-processing French Raw data\n",
    "data_french = []\n",
    "lang_french=[]\n",
    "for i,line in french_df.iterrows():\n",
    "    line=line['French']\n",
    "    if len(line) !=0:\n",
    "        line=line.lower()\n",
    "        line=re.sub(r\"\\d+\",\"\",line)\n",
    "        line=line.translate(translate_table)\n",
    "        data_french.append(line)\n",
    "        lang_french.append(\"French\")"
   ]
  },
  {
   "cell_type": "code",
   "execution_count": 12,
   "id": "217ca018",
   "metadata": {},
   "outputs": [],
   "source": [
    "#Pre-processing Spanish Raw data\n",
    "data_spanish = []\n",
    "lang_spanish=[]\n",
    "for i,line in spanish_df.iterrows():\n",
    "    line=line['Spanish']\n",
    "    if len(line) !=0:\n",
    "        line=line.lower()\n",
    "        line=re.sub(r\"\\d+\",\"\",line)\n",
    "        line=line.translate(translate_table)\n",
    "        data_spanish.append(line)\n",
    "        lang_spanish.append(\"Spanish\")"
   ]
  },
  {
   "cell_type": "code",
   "execution_count": 13,
   "id": "72927471",
   "metadata": {},
   "outputs": [],
   "source": [
    "#Pre-processing Malayalam Raw data\n",
    "data_malayalam = []\n",
    "lang_malayalam=[]\n",
    "for i,line in malayalam_df.iterrows():\n",
    "    line=line['Malayalam']\n",
    "    if len(line) !=0:\n",
    "        line=line.lower()\n",
    "        line=re.sub(r\"\\d+\",\"\",line)\n",
    "        line=re.sub(r\"[a-zA-Z]\",\"\",line)\n",
    "        line=line.translate(translate_table)\n",
    "        data_malayalam.append(line)\n",
    "        lang_malayalam.append(\"Malayalam\")"
   ]
  },
  {
   "cell_type": "code",
   "execution_count": 14,
   "id": "d3a98fb3",
   "metadata": {},
   "outputs": [
    {
     "data": {
      "text/html": [
       "<div>\n",
       "<style scoped>\n",
       "    .dataframe tbody tr th:only-of-type {\n",
       "        vertical-align: middle;\n",
       "    }\n",
       "\n",
       "    .dataframe tbody tr th {\n",
       "        vertical-align: top;\n",
       "    }\n",
       "\n",
       "    .dataframe thead th {\n",
       "        text-align: right;\n",
       "    }\n",
       "</style>\n",
       "<table border=\"1\" class=\"dataframe\">\n",
       "  <thead>\n",
       "    <tr style=\"text-align: right;\">\n",
       "      <th></th>\n",
       "      <th>Text</th>\n",
       "      <th>Language</th>\n",
       "    </tr>\n",
       "  </thead>\n",
       "  <tbody>\n",
       "    <tr>\n",
       "      <th>0</th>\n",
       "      <td>nature in the broadest sense is the natural p...</td>\n",
       "      <td>English</td>\n",
       "    </tr>\n",
       "    <tr>\n",
       "      <th>1</th>\n",
       "      <td>nature can refer to the phenomena of the physi...</td>\n",
       "      <td>English</td>\n",
       "    </tr>\n",
       "    <tr>\n",
       "      <th>2</th>\n",
       "      <td>the study of nature is a large if not the only...</td>\n",
       "      <td>English</td>\n",
       "    </tr>\n",
       "    <tr>\n",
       "      <th>3</th>\n",
       "      <td>although humans are part of nature human activ...</td>\n",
       "      <td>English</td>\n",
       "    </tr>\n",
       "    <tr>\n",
       "      <th>4</th>\n",
       "      <td>the word nature is borrowed from the old fren...</td>\n",
       "      <td>English</td>\n",
       "    </tr>\n",
       "    <tr>\n",
       "      <th>...</th>\n",
       "      <td>...</td>\n",
       "      <td>...</td>\n",
       "    </tr>\n",
       "    <tr>\n",
       "      <th>4277</th>\n",
       "      <td>നിങ്ങളുടെ തെറ്റ് വന്നത് ആ ദിവസം മുതൽ നിങ്ങൾക്ക...</td>\n",
       "      <td>Malayalam</td>\n",
       "    </tr>\n",
       "    <tr>\n",
       "      <th>4278</th>\n",
       "      <td>നാർസിസ ആദ്യം പാടുപെട്ട വഴികൾ മാറ്റി പക്ഷേ പതുക...</td>\n",
       "      <td>Malayalam</td>\n",
       "    </tr>\n",
       "    <tr>\n",
       "      <th>4279</th>\n",
       "      <td>എങ്ങനെ സംഭവിച്ച എല്ലാ കാര്യങ്ങളും ഇപ്പോൾ മരിയൻ...</td>\n",
       "      <td>Malayalam</td>\n",
       "    </tr>\n",
       "    <tr>\n",
       "      <th>4280</th>\n",
       "      <td>അവൾക്കറിയാമോ അവൾക്ക് ഇപ്പോൾ കൂടുതൽ സ്വർണ്ണ റൊട...</td>\n",
       "      <td>Malayalam</td>\n",
       "    </tr>\n",
       "    <tr>\n",
       "      <th>4281</th>\n",
       "      <td>ടെറി നിങ്ങൾ യഥാർത്ഥത്തിൽ ആ മാലാഖയെപ്പോലെയാണ് ക...</td>\n",
       "      <td>Malayalam</td>\n",
       "    </tr>\n",
       "  </tbody>\n",
       "</table>\n",
       "<p>4282 rows × 2 columns</p>\n",
       "</div>"
      ],
      "text/plain": [
       "                                                   Text   Language\n",
       "0      nature in the broadest sense is the natural p...    English\n",
       "1     nature can refer to the phenomena of the physi...    English\n",
       "2     the study of nature is a large if not the only...    English\n",
       "3     although humans are part of nature human activ...    English\n",
       "4      the word nature is borrowed from the old fren...    English\n",
       "...                                                 ...        ...\n",
       "4277  നിങ്ങളുടെ തെറ്റ് വന്നത് ആ ദിവസം മുതൽ നിങ്ങൾക്ക...  Malayalam\n",
       "4278  നാർസിസ ആദ്യം പാടുപെട്ട വഴികൾ മാറ്റി പക്ഷേ പതുക...  Malayalam\n",
       "4279  എങ്ങനെ സംഭവിച്ച എല്ലാ കാര്യങ്ങളും ഇപ്പോൾ മരിയൻ...  Malayalam\n",
       "4280  അവൾക്കറിയാമോ അവൾക്ക് ഇപ്പോൾ കൂടുതൽ സ്വർണ്ണ റൊട...  Malayalam\n",
       "4281  ടെറി നിങ്ങൾ യഥാർത്ഥത്തിൽ ആ മാലാഖയെപ്പോലെയാണ് ക...  Malayalam\n",
       "\n",
       "[4282 rows x 2 columns]"
      ]
     },
     "execution_count": 14,
     "metadata": {},
     "output_type": "execute_result"
    }
   ],
   "source": [
    "#Visualizing the data\n",
    "df=pd.DataFrame({\"Text\":data_english+data_german+data_french+data_spanish+data_malayalam,\"Language\":lang_english+lang_german+lang_french+lang_spanish+lang_malayalam})\n",
    "df"
   ]
  },
  {
   "cell_type": "code",
   "execution_count": 15,
   "id": "c48c5246",
   "metadata": {},
   "outputs": [
    {
     "name": "stdout",
     "output_type": "stream",
     "text": [
      "(2997,)\n",
      "(1285,)\n",
      "(2997,)\n",
      "(1285,)\n"
     ]
    }
   ],
   "source": [
    "#Splitting the data into train and test sets\n",
    "x,y = df.iloc[:,0],df.iloc[:,1]\n",
    "x_train,x_test,y_train,y_test=train_test_split(x,y,test_size=0.3,random_state=20)\n",
    "print(x_train.shape)\n",
    "print(x_test.shape)\n",
    "print(y_train.shape)\n",
    "print(y_test.shape)"
   ]
  },
  {
   "cell_type": "code",
   "execution_count": 16,
   "id": "188da0f7",
   "metadata": {},
   "outputs": [],
   "source": [
    "#Vectorization\n",
    "vectorizer = TfidfVectorizer(ngram_range=(1, 3), analyzer='char')\n",
    "pipe_lr_r13 = pipeline.Pipeline([('vectorizer', vectorizer), ('clf', LogisticRegression())])"
   ]
  },
  {
   "cell_type": "code",
   "execution_count": 17,
   "id": "8a3f986b",
   "metadata": {},
   "outputs": [
    {
     "data": {
      "text/html": [
       "<style>#sk-container-id-1 {color: black;background-color: white;}#sk-container-id-1 pre{padding: 0;}#sk-container-id-1 div.sk-toggleable {background-color: white;}#sk-container-id-1 label.sk-toggleable__label {cursor: pointer;display: block;width: 100%;margin-bottom: 0;padding: 0.3em;box-sizing: border-box;text-align: center;}#sk-container-id-1 label.sk-toggleable__label-arrow:before {content: \"▸\";float: left;margin-right: 0.25em;color: #696969;}#sk-container-id-1 label.sk-toggleable__label-arrow:hover:before {color: black;}#sk-container-id-1 div.sk-estimator:hover label.sk-toggleable__label-arrow:before {color: black;}#sk-container-id-1 div.sk-toggleable__content {max-height: 0;max-width: 0;overflow: hidden;text-align: left;background-color: #f0f8ff;}#sk-container-id-1 div.sk-toggleable__content pre {margin: 0.2em;color: black;border-radius: 0.25em;background-color: #f0f8ff;}#sk-container-id-1 input.sk-toggleable__control:checked~div.sk-toggleable__content {max-height: 200px;max-width: 100%;overflow: auto;}#sk-container-id-1 input.sk-toggleable__control:checked~label.sk-toggleable__label-arrow:before {content: \"▾\";}#sk-container-id-1 div.sk-estimator input.sk-toggleable__control:checked~label.sk-toggleable__label {background-color: #d4ebff;}#sk-container-id-1 div.sk-label input.sk-toggleable__control:checked~label.sk-toggleable__label {background-color: #d4ebff;}#sk-container-id-1 input.sk-hidden--visually {border: 0;clip: rect(1px 1px 1px 1px);clip: rect(1px, 1px, 1px, 1px);height: 1px;margin: -1px;overflow: hidden;padding: 0;position: absolute;width: 1px;}#sk-container-id-1 div.sk-estimator {font-family: monospace;background-color: #f0f8ff;border: 1px dotted black;border-radius: 0.25em;box-sizing: border-box;margin-bottom: 0.5em;}#sk-container-id-1 div.sk-estimator:hover {background-color: #d4ebff;}#sk-container-id-1 div.sk-parallel-item::after {content: \"\";width: 100%;border-bottom: 1px solid gray;flex-grow: 1;}#sk-container-id-1 div.sk-label:hover label.sk-toggleable__label {background-color: #d4ebff;}#sk-container-id-1 div.sk-serial::before {content: \"\";position: absolute;border-left: 1px solid gray;box-sizing: border-box;top: 0;bottom: 0;left: 50%;z-index: 0;}#sk-container-id-1 div.sk-serial {display: flex;flex-direction: column;align-items: center;background-color: white;padding-right: 0.2em;padding-left: 0.2em;position: relative;}#sk-container-id-1 div.sk-item {position: relative;z-index: 1;}#sk-container-id-1 div.sk-parallel {display: flex;align-items: stretch;justify-content: center;background-color: white;position: relative;}#sk-container-id-1 div.sk-item::before, #sk-container-id-1 div.sk-parallel-item::before {content: \"\";position: absolute;border-left: 1px solid gray;box-sizing: border-box;top: 0;bottom: 0;left: 50%;z-index: -1;}#sk-container-id-1 div.sk-parallel-item {display: flex;flex-direction: column;z-index: 1;position: relative;background-color: white;}#sk-container-id-1 div.sk-parallel-item:first-child::after {align-self: flex-end;width: 50%;}#sk-container-id-1 div.sk-parallel-item:last-child::after {align-self: flex-start;width: 50%;}#sk-container-id-1 div.sk-parallel-item:only-child::after {width: 0;}#sk-container-id-1 div.sk-dashed-wrapped {border: 1px dashed gray;margin: 0 0.4em 0.5em 0.4em;box-sizing: border-box;padding-bottom: 0.4em;background-color: white;}#sk-container-id-1 div.sk-label label {font-family: monospace;font-weight: bold;display: inline-block;line-height: 1.2em;}#sk-container-id-1 div.sk-label-container {text-align: center;}#sk-container-id-1 div.sk-container {/* jupyter's `normalize.less` sets `[hidden] { display: none; }` but bootstrap.min.css set `[hidden] { display: none !important; }` so we also need the `!important` here to be able to override the default hidden behavior on the sphinx rendered scikit-learn.org. See: https://github.com/scikit-learn/scikit-learn/issues/21755 */display: inline-block !important;position: relative;}#sk-container-id-1 div.sk-text-repr-fallback {display: none;}</style><div id=\"sk-container-id-1\" class=\"sk-top-container\"><div class=\"sk-text-repr-fallback\"><pre>Pipeline(steps=[(&#x27;vectorizer&#x27;,\n",
       "                 TfidfVectorizer(analyzer=&#x27;char&#x27;, ngram_range=(1, 3))),\n",
       "                (&#x27;clf&#x27;, LogisticRegression())])</pre><b>In a Jupyter environment, please rerun this cell to show the HTML representation or trust the notebook. <br />On GitHub, the HTML representation is unable to render, please try loading this page with nbviewer.org.</b></div><div class=\"sk-container\" hidden><div class=\"sk-item sk-dashed-wrapped\"><div class=\"sk-label-container\"><div class=\"sk-label sk-toggleable\"><input class=\"sk-toggleable__control sk-hidden--visually\" id=\"sk-estimator-id-1\" type=\"checkbox\" ><label for=\"sk-estimator-id-1\" class=\"sk-toggleable__label sk-toggleable__label-arrow\">Pipeline</label><div class=\"sk-toggleable__content\"><pre>Pipeline(steps=[(&#x27;vectorizer&#x27;,\n",
       "                 TfidfVectorizer(analyzer=&#x27;char&#x27;, ngram_range=(1, 3))),\n",
       "                (&#x27;clf&#x27;, LogisticRegression())])</pre></div></div></div><div class=\"sk-serial\"><div class=\"sk-item\"><div class=\"sk-estimator sk-toggleable\"><input class=\"sk-toggleable__control sk-hidden--visually\" id=\"sk-estimator-id-2\" type=\"checkbox\" ><label for=\"sk-estimator-id-2\" class=\"sk-toggleable__label sk-toggleable__label-arrow\">TfidfVectorizer</label><div class=\"sk-toggleable__content\"><pre>TfidfVectorizer(analyzer=&#x27;char&#x27;, ngram_range=(1, 3))</pre></div></div></div><div class=\"sk-item\"><div class=\"sk-estimator sk-toggleable\"><input class=\"sk-toggleable__control sk-hidden--visually\" id=\"sk-estimator-id-3\" type=\"checkbox\" ><label for=\"sk-estimator-id-3\" class=\"sk-toggleable__label sk-toggleable__label-arrow\">LogisticRegression</label><div class=\"sk-toggleable__content\"><pre>LogisticRegression()</pre></div></div></div></div></div></div></div>"
      ],
      "text/plain": [
       "Pipeline(steps=[('vectorizer',\n",
       "                 TfidfVectorizer(analyzer='char', ngram_range=(1, 3))),\n",
       "                ('clf', LogisticRegression())])"
      ]
     },
     "execution_count": 17,
     "metadata": {},
     "output_type": "execute_result"
    }
   ],
   "source": [
    "#Model fitting\n",
    "pipe_lr_r13.fit(x_train,y_train)"
   ]
  },
  {
   "cell_type": "code",
   "execution_count": 18,
   "id": "fd3e7b68",
   "metadata": {},
   "outputs": [
    {
     "data": {
      "text/plain": [
       "array(['Spanish', 'English', 'French', ..., 'English', 'English',\n",
       "       'English'], dtype=object)"
      ]
     },
     "execution_count": 18,
     "metadata": {},
     "output_type": "execute_result"
    }
   ],
   "source": [
    "#Model prediction\n",
    "y_predicted=pipe_lr_r13.predict(x_test)\n",
    "y_predicted"
   ]
  },
  {
   "cell_type": "code",
   "execution_count": 19,
   "id": "8fd0bb74",
   "metadata": {},
   "outputs": [
    {
     "name": "stdout",
     "output_type": "stream",
     "text": [
      "99.29961089494164 %\n"
     ]
    }
   ],
   "source": [
    "#Evaluating the model\n",
    "acc=(metrics.accuracy_score(y_test,y_predicted))*100\n",
    "print(acc,\"%\")"
   ]
  },
  {
   "cell_type": "code",
   "execution_count": 20,
   "id": "38669308",
   "metadata": {},
   "outputs": [
    {
     "name": "stdout",
     "output_type": "stream",
     "text": [
      "Confusion Matrix: \n",
      " [[441   0   0   0   0]\n",
      " [  3 303   0   0   1]\n",
      " [  0   1 142   0   0]\n",
      " [  0   0   0 187   0]\n",
      " [  3   1   0   0 203]]\n"
     ]
    }
   ],
   "source": [
    "#Evaluating the model\n",
    "matrix=(metrics.confusion_matrix(y_test,y_predicted))\n",
    "print('Confusion Matrix: \\n',matrix)"
   ]
  },
  {
   "cell_type": "code",
   "execution_count": 21,
   "id": "b85905f8",
   "metadata": {},
   "outputs": [],
   "source": [
    "#Model saving\n",
    "import pickle\n",
    "lrFile=open('LRmodel.pckl','wb')\n",
    "pickle.dump(pipe_lr_r13,lrFile)\n",
    "lrFile.close()"
   ]
  },
  {
   "cell_type": "code",
   "execution_count": 22,
   "id": "0c2d1d3f",
   "metadata": {},
   "outputs": [],
   "source": [
    "#Model loading\n",
    "global lrLangDetectModel\n",
    "lrLangDetectFile=open('LRmodel.pckl','rb')\n",
    "lrLangDetectModel=pickle.load(lrLangDetectFile)\n",
    "lrLangDetectFile.close()"
   ]
  },
  {
   "cell_type": "code",
   "execution_count": 23,
   "id": "592a285d",
   "metadata": {},
   "outputs": [],
   "source": [
    "#Calling trained data to make decisions\n",
    "def lang_detect(text):\n",
    "    import numpy as np\n",
    "    import string\n",
    "    import re\n",
    "    import pickle\n",
    "    translate_table=dict((ord(char),None) for char in string.punctuation)\n",
    "    global lrLangDetectModel\n",
    "    lrLangDetectFile=open('LRmodel.pckl','rb')\n",
    "    lrLangDetectModel=pickle.load(lrLangDetectFile)\n",
    "    lrLangDetectFile.close()\n",
    "    text=\" \".join(text.split())\n",
    "    text=text.lower()\n",
    "    text=re.sub(r\"\\d+\",\"\",text)\n",
    "    text=text.translate(translate_table)\n",
    "    pred=lrLangDetectModel.predict([text])\n",
    "    prob=lrLangDetectModel.predict_proba([text])\n",
    "    return pred[0]"
   ]
  },
  {
   "cell_type": "code",
   "execution_count": 24,
   "id": "a2af81d1",
   "metadata": {},
   "outputs": [
    {
     "data": {
      "text/plain": [
       "'English'"
      ]
     },
     "execution_count": 24,
     "metadata": {},
     "output_type": "execute_result"
    }
   ],
   "source": [
    "lang_detect(\"Hello I just build my own language detection model\")"
   ]
  },
  {
   "cell_type": "code",
   "execution_count": 25,
   "id": "882f745f",
   "metadata": {},
   "outputs": [
    {
     "data": {
      "text/plain": [
       "'German'"
      ]
     },
     "execution_count": 25,
     "metadata": {},
     "output_type": "execute_result"
    }
   ],
   "source": [
    "lang_detect(\"Hallo, ich habe gerade mein eigenes Spracherkennungsmodell erstellt\")"
   ]
  },
  {
   "cell_type": "code",
   "execution_count": 26,
   "id": "22f5e63e",
   "metadata": {},
   "outputs": [
    {
     "data": {
      "text/plain": [
       "'French'"
      ]
     },
     "execution_count": 26,
     "metadata": {},
     "output_type": "execute_result"
    }
   ],
   "source": [
    "lang_detect(\"Bonjour, je viens de construire mon propre modèle de détection de langue\")"
   ]
  },
  {
   "cell_type": "code",
   "execution_count": 27,
   "id": "ed054209",
   "metadata": {},
   "outputs": [
    {
     "data": {
      "text/plain": [
       "'Spanish'"
      ]
     },
     "execution_count": 27,
     "metadata": {},
     "output_type": "execute_result"
    }
   ],
   "source": [
    "lang_detect(\"Hola, acabo de crear mi propio modelo de detección de idioma\")"
   ]
  },
  {
   "cell_type": "code",
   "execution_count": 28,
   "id": "fdc047d2",
   "metadata": {},
   "outputs": [
    {
     "data": {
      "text/plain": [
       "'Malayalam'"
      ]
     },
     "execution_count": 28,
     "metadata": {},
     "output_type": "execute_result"
    }
   ],
   "source": [
    "lang_detect(\"ഹലോ ഞാൻ എന്റെ സ്വന്തം ഭാഷാ കണ്ടെത്തൽ മോഡൽ നിർമ്മിക്കുന്നു\")"
   ]
  },
  {
   "cell_type": "code",
   "execution_count": 32,
   "id": "95bbd0bd",
   "metadata": {},
   "outputs": [],
   "source": [
    "#Creating GUI for the model\n",
    "import PySimpleGUI as sg\n",
    "\n",
    "layout = [\n",
    "    [sg.Text(\"Enter Text:\")],\n",
    "    [sg.InputText(key=\"input_text\")],\n",
    "    [sg.Button(\"Detect Language\"), sg.Button(\"Exit\")],\n",
    "    [sg.Text(size=(30, 1), key=\"output_text\")]\n",
    "]\n",
    "\n",
    "window = sg.Window(\"Language Detection\", layout)\n",
    "\n",
    "def lang_detect(text):\n",
    "    import numpy as np\n",
    "    import string\n",
    "    import re\n",
    "    import pickle\n",
    "    translate_table=dict((ord(char),None) for char in string.punctuation)\n",
    "    global lrLangDetectModel\n",
    "    lrLangDetectFile=open('LRmodel.pckl','rb')\n",
    "    lrLangDetectModel=pickle.load(lrLangDetectFile)\n",
    "    lrLangDetectFile.close()\n",
    "    text=\" \".join(text.split())\n",
    "    text=text.lower()\n",
    "    text=re.sub(r\"\\d+\",\"\",text)\n",
    "    text=text.translate(translate_table)\n",
    "    pred=lrLangDetectModel.predict([text])\n",
    "    prob=lrLangDetectModel.predict_proba([text])\n",
    "    return pred[0]\n",
    "\n",
    "while True:\n",
    "    event, values = window.read()\n",
    "\n",
    "    if event == sg.WINDOW_CLOSED or event == \"Exit\":\n",
    "        break\n",
    "    elif event == \"Detect Language\":\n",
    "        input_text = values[\"input_text\"]\n",
    "        if input_text:\n",
    "            prediction = lang_detect(input_text)\n",
    "            window[\"output_text\"].update(f\"Language: {prediction}\")\n",
    "\n",
    "window.close()\n"
   ]
  },
  {
   "cell_type": "code",
   "execution_count": 30,
   "id": "4b683529",
   "metadata": {},
   "outputs": [
    {
     "name": "stdout",
     "output_type": "stream",
     "text": [
      "Requirement already satisfied: PySimpleGUI in c:\\users\\asus\\anaconda3\\lib\\site-packages (4.60.5)\n",
      "Note: you may need to restart the kernel to use updated packages.\n"
     ]
    }
   ],
   "source": []
  },
  {
   "cell_type": "code",
   "execution_count": null,
   "id": "e33bddac",
   "metadata": {},
   "outputs": [],
   "source": []
  }
 ],
 "metadata": {
  "kernelspec": {
   "display_name": "Python 3 (ipykernel)",
   "language": "python",
   "name": "python3"
  },
  "language_info": {
   "codemirror_mode": {
    "name": "ipython",
    "version": 3
   },
   "file_extension": ".py",
   "mimetype": "text/x-python",
   "name": "python",
   "nbconvert_exporter": "python",
   "pygments_lexer": "ipython3",
   "version": "3.10.9"
  }
 },
 "nbformat": 4,
 "nbformat_minor": 5
}
